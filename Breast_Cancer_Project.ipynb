{
 "cells": [
  {
   "cell_type": "code",
   "execution_count": 24,
   "metadata": {},
   "outputs": [],
   "source": [
    "import pandas as pd\n",
    "import numpy as np\n",
    "import matplotlib.pyplot as plt\n",
    "%matplotlib inline"
   ]
  },
  {
   "cell_type": "code",
   "execution_count": 15,
   "metadata": {},
   "outputs": [],
   "source": [
    "df=pd.read_csv(\"Breast_Cancer.csv\")"
   ]
  },
  {
   "cell_type": "code",
   "execution_count": 25,
   "metadata": {
    "scrolled": true
   },
   "outputs": [],
   "source": [
    "from sklearn.cross_validation import train_test_split\n",
    "X=df.drop([\"diagnosis\"],axis=1)\n",
    "y=df[\"diagnosis\"]\n",
    "X_train, X_test, y_train, y_test = train_test_split(X, y, test_size=0.3, random_state=101)"
   ]
  },
  {
   "cell_type": "code",
   "execution_count": 31,
   "metadata": {},
   "outputs": [
    {
     "name": "stdout",
     "output_type": "stream",
     "text": [
      "Classification report =              precision    recall  f1-score   support\n",
      "\n",
      "          B       0.71      0.97      0.82       105\n",
      "          M       0.89      0.36      0.52        66\n",
      "\n",
      "avg / total       0.78      0.74      0.70       171\n",
      "\n",
      "Accuracy Score= 0.7368421052631579\n",
      "Confusion Matrix=\n",
      " [[102   3]\n",
      " [ 42  24]]\n"
     ]
    }
   ],
   "source": [
    "from sklearn.neighbors import KNeighborsClassifier\n",
    "knn=KNeighborsClassifier(n_neighbors=10)\n",
    "knn.fit(X_train,y_train)\n",
    "predictions=knn.predict(X_test)\n",
    "from sklearn.metrics import classification_report,accuracy_score,confusion_matrix\n",
    "print(\"Classification report =\",classification_report(y_test,predictions))\n",
    "print(\"Accuracy Score=\",accuracy_score(y_test,predictions))\n",
    "print(\"Confusion Matrix=\\n\",confusion_matrix(y_test,predictions))"
   ]
  },
  {
   "cell_type": "code",
   "execution_count": 33,
   "metadata": {},
   "outputs": [
    {
     "name": "stdout",
     "output_type": "stream",
     "text": [
      "Classification report =              precision    recall  f1-score   support\n",
      "\n",
      "          B       0.71      0.97      0.82       105\n",
      "          M       0.89      0.36      0.52        66\n",
      "\n",
      "avg / total       0.78      0.74      0.70       171\n",
      "\n",
      "Accuracy Score= 0.7368421052631579\n",
      "Confusion Matrix=\n",
      " [[102   3]\n",
      " [ 42  24]]\n"
     ]
    }
   ],
   "source": [
    "#from sklearn.svm import SVC  \n",
    "#svclassifier = SVC(kernel='poly', degree=8)  \n",
    "#svclassifier.fit(X_train, y_train)\n",
    "#y_pred = svclassifier.predict(X_test)  \n",
    "#from sklearn.metrics import classification_report,accuracy_score,confusion_matrix\n",
    "#print(\"Classification report =\",classification_report(y_test,predictions))\n",
    "#print(\"Accuracy Score=\",accuracy_score(y_test,predictions))\n",
    "#print(\"Confusion Matrix=\\n\",confusion_matrix(y_test,predictions))"
   ]
  },
  {
   "cell_type": "code",
   "execution_count": 28,
   "metadata": {},
   "outputs": [],
   "source": [
    "#error_rate=[]\n",
    "#for i in range(1,40):\n",
    "#    knn=KNeighborsClassifier(n_neighbors=i)\n",
    "#    knn.fit(X_train,y_train)\n",
    "#    predictions=knn.predict(X_test)\n",
    "#    from sklearn.metrics import classification_report,confusion_matrix\n",
    "#    error_rate.append(np.mean(predictions != y_test))"
   ]
  },
  {
   "cell_type": "code",
   "execution_count": 67,
   "metadata": {},
   "outputs": [
    {
     "data": {
      "text/plain": [
       "Text(0,0.5,'Error Rate')"
      ]
     },
     "execution_count": 67,
     "metadata": {},
     "output_type": "execute_result"
    },
    {
     "data": {
      "image/png": "[encoded data removed]",
      "text/plain": [
       "<Figure size 720x432 with 1 Axes>"
      ]
     },
     "metadata": {
      "needs_background": "light"
     },
     "output_type": "display_data"
    }
   ],
   "source": [
    "plt.figure(figsize=(10,6))\n",
    "plt.plot(range(1,40),error_rate, color='blue', linestyle=\"--\",marker=\"o\",markerfacecolor=\"red\",markersize=10)\n",
    "plt.title(\"Error Rate vs K\")\n",
    "plt.xlabel(\"K\")\n",
    "plt.ylabel(\"Error Rate\")"
   ]
  },
  {
   "cell_type": "code",
   "execution_count": 68,
   "metadata": {},
   "outputs": [
    {
     "name": "stdout",
     "output_type": "stream",
     "text": [
      "Classification report =              precision    recall  f1-score   support\n",
      "\n",
      "          B       0.83      0.90      0.87       105\n",
      "          M       0.82      0.71      0.76        66\n",
      "\n",
      "avg / total       0.83      0.83      0.83       171\n",
      "\n",
      "Accuracy Score= 0.8304093567251462\n",
      "Confusion Matrix=\n",
      " [[95 10]\n",
      " [19 47]]\n"
     ]
    }
   ],
   "source": [
    "from sklearn.neighbors import KNeighborsClassifier\n",
    "knn=KNeighborsClassifier(n_neighbors=1)\n",
    "knn.fit(X_train,y_train)\n",
    "predictions=knn.predict(X_test)\n",
    "from sklearn.metrics import classification_report,accuracy_score,confusion_matrix\n",
    "print(\"Classification report =\",classification_report(y_test,predictions))\n",
    "print(\"Accuracy Score=\",accuracy_score(y_test,predictions))\n",
    "print(\"Confusion Matrix=\\n\",confusion_matrix(y_test,predictions))"
   ]
  }
 ],
 "metadata": {
  "kernelspec": {
   "display_name": "Python 3",
   "language": "python",
   "name": "python3"
  },
  "language_info": {
   "codemirror_mode": {
    "name": "ipython",
    "version": 3
   },
   "file_extension": ".py",
   "mimetype": "text/x-python",
   "name": "python",
   "nbconvert_exporter": "python",
   "pygments_lexer": "ipython3",
   "version": "3.7.0"
  }
 },
 "nbformat": 4,
 "nbformat_minor": 2
}
